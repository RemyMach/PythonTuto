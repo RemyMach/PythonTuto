{
 "cells": [
  {
   "cell_type": "markdown",
   "metadata": {},
   "source": [
    "## fonctions Built-in"
   ]
  },
  {
   "cell_type": "markdown",
   "metadata": {},
   "source": [
    "### Fonctions qui n'ont pas besoin dêtre importé"
   ]
  },
  {
   "cell_type": "code",
   "execution_count": 1,
   "metadata": {},
   "outputs": [
    {
     "data": {
      "text/plain": [
       "13"
      ]
     },
     "execution_count": 1,
     "metadata": {},
     "output_type": "execute_result"
    }
   ],
   "source": [
    "# sum()\n",
    "# somme les éléments d'une liste\n",
    "sum([4,4,5])\n"
   ]
  },
  {
   "cell_type": "code",
   "execution_count": 2,
   "metadata": {},
   "outputs": [
    {
     "data": {
      "text/plain": [
       "3"
      ]
     },
     "execution_count": 2,
     "metadata": {},
     "output_type": "execute_result"
    }
   ],
   "source": [
    "# len()\n",
    "# nombre d'éléments d'une liste où nombre de carractères d'un string\n",
    "len([1,2,3])"
   ]
  },
  {
   "cell_type": "code",
   "execution_count": 3,
   "metadata": {},
   "outputs": [],
   "source": [
    "# float()\n",
    "# int()\n",
    "# list()"
   ]
  },
  {
   "cell_type": "code",
   "execution_count": 5,
   "metadata": {},
   "outputs": [
    {
     "data": {
      "text/plain": [
       "1"
      ]
     },
     "execution_count": 5,
     "metadata": {},
     "output_type": "execute_result"
    }
   ],
   "source": [
    "# min()\n",
    "min([3,1,6,2])"
   ]
  },
  {
   "cell_type": "code",
   "execution_count": 6,
   "metadata": {},
   "outputs": [
    {
     "data": {
      "text/plain": [
       "6"
      ]
     },
     "execution_count": 6,
     "metadata": {},
     "output_type": "execute_result"
    }
   ],
   "source": [
    "# max()\n",
    "max([3,1,6,2])"
   ]
  },
  {
   "cell_type": "markdown",
   "metadata": {},
   "source": [
    "# les portées des Variables"
   ]
  },
  {
   "cell_type": "code",
   "execution_count": 9,
   "metadata": {},
   "outputs": [
    {
     "name": "stdout",
     "output_type": "stream",
     "text": [
      "30\n"
     ]
    }
   ],
   "source": [
    "# variable total dans fonction local\n",
    "# variable en dehors de fonction global\n",
    "# quand une variable est crée pour l'exécution d'une fonction\n",
    "#elle finit par être détruite à la fin de l'exec de cette fonction\n",
    "total = 15\n",
    "def add(a,b):\n",
    "    total = a + b\n",
    "    return total\n",
    "\n",
    "print(add(10,20))"
   ]
  },
  {
   "cell_type": "code",
   "execution_count": 11,
   "metadata": {},
   "outputs": [
    {
     "name": "stdout",
     "output_type": "stream",
     "text": [
      "15\n"
     ]
    }
   ],
   "source": [
    "print(total)"
   ]
  },
  {
   "cell_type": "code",
   "execution_count": 15,
   "metadata": {},
   "outputs": [
    {
     "name": "stdout",
     "output_type": "stream",
     "text": [
      "10\n",
      "20\n"
     ]
    }
   ],
   "source": [
    "#utilisation d'une variable global sans la passer dans les params\n",
    "total = 10\n",
    "\n",
    "def add_to_total(a):\n",
    "    global total\n",
    "    total = total + a\n",
    "print(total)\n",
    "add_to_total(10)\n",
    "print(total)"
   ]
  },
  {
   "cell_type": "markdown",
   "metadata": {},
   "source": [
    "# Héritage"
   ]
  },
  {
   "cell_type": "code",
   "execution_count": 16,
   "metadata": {},
   "outputs": [],
   "source": [
    "# si une varaible n'a pas été défini localement python \n",
    "# voit si il n'y en a pas une global"
   ]
  },
  {
   "cell_type": "markdown",
   "metadata": {},
   "source": [
    "## ordre\n",
    "- 1. portée local\n",
    "- 2. variable d'une autre fonction appelé dans notre fonction (fonction dans fonction\n",
    "- 3. portée global\n",
    "- 4. fonction built-in \n"
   ]
  },
  {
   "cell_type": "code",
   "execution_count": null,
   "metadata": {},
   "outputs": [],
   "source": []
  }
 ],
 "metadata": {
  "kernelspec": {
   "display_name": "Python 3",
   "language": "python",
   "name": "python3"
  },
  "language_info": {
   "codemirror_mode": {
    "name": "ipython",
    "version": 3
   },
   "file_extension": ".py",
   "mimetype": "text/x-python",
   "name": "python",
   "nbconvert_exporter": "python",
   "pygments_lexer": "ipython3",
   "version": "3.7.6"
  }
 },
 "nbformat": 4,
 "nbformat_minor": 4
}
