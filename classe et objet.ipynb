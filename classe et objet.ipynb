{
 "cells": [
  {
   "cell_type": "markdown",
   "metadata": {},
   "source": [
    "# Objets et classes"
   ]
  },
  {
   "cell_type": "code",
   "execution_count": 1,
   "metadata": {},
   "outputs": [],
   "source": [
    "class Car():\n",
    "    def __init__(self):\n",
    "        self.color = 'black'"
   ]
  },
  {
   "cell_type": "code",
   "execution_count": 2,
   "metadata": {},
   "outputs": [],
   "source": [
    "audi_car = Car()"
   ]
  },
  {
   "cell_type": "code",
   "execution_count": 3,
   "metadata": {},
   "outputs": [
    {
     "data": {
      "text/plain": [
       "'black'"
      ]
     },
     "execution_count": 3,
     "metadata": {},
     "output_type": "execute_result"
    }
   ],
   "source": [
    "audi_car.color"
   ]
  },
  {
   "cell_type": "code",
   "execution_count": 8,
   "metadata": {},
   "outputs": [
    {
     "name": "stdout",
     "output_type": "stream",
     "text": [
      "lyon\n",
      "lyon\n"
     ]
    }
   ],
   "source": [
    "class Team():\n",
    "    def __init__(self, name):\n",
    "        self.name = name\n",
    "    \n",
    "    def print_name(self):\n",
    "        print(self.name)\n",
    "\n",
    "equipe = Team('lyon')\n",
    "print(equipe.name)\n",
    "equipe.print_name()"
   ]
  },
  {
   "cell_type": "code",
   "execution_count": 1,
   "metadata": {},
   "outputs": [
    {
     "data": {
      "text/plain": [
       "0"
      ]
     },
     "execution_count": 1,
     "metadata": {},
     "output_type": "execute_result"
    }
   ],
   "source": [
    "import csv\n",
    "\n",
    "f = open('nfl_suspensions_data.csv')\n",
    "csvreader = csv.reader(f)\n",
    "nfl_suspensions = list(csvreader)\n",
    "nfl_suspensions = nfl_suspensions[1:]\n",
    "\n",
    "class Suspension_improve:\n",
    "    \n",
    "    def __init__(self, row):\n",
    "        self.name = row[0]\n",
    "        self.team = row[1]\n",
    "        self.games = row[2]\n",
    "        self.year = self.convertYear(row[5])\n",
    "        \n",
    "    def convertYear(self, year):\n",
    "        try:\n",
    "            year = int(year)\n",
    "        except Exception:\n",
    "            year = 0\n",
    "        return year\n",
    "    \n",
    "    def get_year(self):\n",
    "        return self.year\n",
    "\n",
    "missing_year = Suspension_improve(nfl_suspensions[22])\n",
    "missing_year.get_year()"
   ]
  },
  {
   "cell_type": "code",
   "execution_count": null,
   "metadata": {},
   "outputs": [],
   "source": []
  }
 ],
 "metadata": {
  "kernelspec": {
   "display_name": "Python 3",
   "language": "python",
   "name": "python3"
  },
  "language_info": {
   "codemirror_mode": {
    "name": "ipython",
    "version": 3
   },
   "file_extension": ".py",
   "mimetype": "text/x-python",
   "name": "python",
   "nbconvert_exporter": "python",
   "pygments_lexer": "ipython3",
   "version": "3.7.6"
  }
 },
 "nbformat": 4,
 "nbformat_minor": 4
}
