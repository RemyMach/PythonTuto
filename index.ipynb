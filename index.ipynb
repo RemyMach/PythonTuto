{
 "cells": [
  {
   "cell_type": "markdown",
   "metadata": {},
   "source": [
    "# Titre 1"
   ]
  },
  {
   "cell_type": "markdown",
   "metadata": {},
   "source": [
    "## Convertir un type de donnée en un autre"
   ]
  },
  {
   "cell_type": "code",
   "execution_count": 2,
   "metadata": {},
   "outputs": [],
   "source": [
    "# str() et int()"
   ]
  },
  {
   "cell_type": "code",
   "execution_count": 6,
   "metadata": {},
   "outputs": [],
   "source": [
    "int_to_str = 2"
   ]
  },
  {
   "cell_type": "code",
   "execution_count": 7,
   "metadata": {},
   "outputs": [
    {
     "name": "stdout",
     "output_type": "stream",
     "text": [
      "<class 'int'>\n"
     ]
    }
   ],
   "source": [
    "print(type(int_to_str))"
   ]
  },
  {
   "cell_type": "code",
   "execution_count": 9,
   "metadata": {},
   "outputs": [],
   "source": [
    "int_to_str = str(int_to_str)"
   ]
  },
  {
   "cell_type": "code",
   "execution_count": 10,
   "metadata": {},
   "outputs": [
    {
     "name": "stdout",
     "output_type": "stream",
     "text": [
      "<class 'str'>\n"
     ]
    }
   ],
   "source": [
    "print(type(int_to_str))"
   ]
  },
  {
   "cell_type": "markdown",
   "metadata": {},
   "source": [
    "##  liste"
   ]
  },
  {
   "cell_type": "code",
   "execution_count": 13,
   "metadata": {},
   "outputs": [],
   "source": [
    "months = []"
   ]
  },
  {
   "cell_type": "code",
   "execution_count": 14,
   "metadata": {},
   "outputs": [
    {
     "name": "stdout",
     "output_type": "stream",
     "text": [
      "['février', 1]\n"
     ]
    }
   ],
   "source": [
    "months.append('février')\n",
    "months.append(1)\n",
    "print(months)"
   ]
  },
  {
   "cell_type": "code",
   "execution_count": 20,
   "metadata": {},
   "outputs": [
    {
     "name": "stdout",
     "output_type": "stream",
     "text": [
      "['France', 'Spain', 'Canada']\n"
     ]
    }
   ],
   "source": [
    "countries = []\n",
    "temperatures = []\n",
    "countries.append('France')\n",
    "countries.append('Spain')\n",
    "countries.append('Canada')\n",
    "temperatures.append(122.5)\n",
    "temperatures.append(124.0)\n",
    "temperatures.append(105.2)\n",
    "\n",
    "print(countries)"
   ]
  },
  {
   "cell_type": "code",
   "execution_count": 21,
   "metadata": {},
   "outputs": [
    {
     "name": "stdout",
     "output_type": "stream",
     "text": [
      "France\n",
      "122.5\n"
     ]
    }
   ],
   "source": [
    "France = countries[0]\n",
    "france_temperatures = temperatures[0]\n",
    "print(France)\n",
    "print(france_temperatures)"
   ]
  },
  {
   "cell_type": "code",
   "execution_count": 24,
   "metadata": {},
   "outputs": [
    {
     "name": "stdout",
     "output_type": "stream",
     "text": [
      "6\n",
      "3\n"
     ]
    }
   ],
   "source": [
    "# taille d'un string\n",
    "#taille d'une liste\n",
    "print(len(France))\n",
    "print(len(countries))"
   ]
  },
  {
   "cell_type": "markdown",
   "metadata": {},
   "source": [
    "## Morceau de liste(slicing)"
   ]
  },
  {
   "cell_type": "code",
   "execution_count": 25,
   "metadata": {},
   "outputs": [
    {
     "name": "stdout",
     "output_type": "stream",
     "text": [
      "['Janvier', 'Février', 'Mars', 'Avril', 'Mai', 'Juin', 'Juilllet', 'Août', 'Septembre', 'Octobre', 'Novembre', 'Décembre']\n"
     ]
    }
   ],
   "source": [
    "months = ['Janvier','Février', 'Mars', 'Avril', 'Mai', 'Juin', 'Juilllet',\n",
    "         'Août','Septembre','Octobre','Novembre','Décembre']\n",
    "print(months)"
   ]
  },
  {
   "cell_type": "markdown",
   "metadata": {},
   "source": [
    "### prend la valeur 4 et 5 pas 6"
   ]
  },
  {
   "cell_type": "code",
   "execution_count": 27,
   "metadata": {},
   "outputs": [
    {
     "name": "stdout",
     "output_type": "stream",
     "text": [
      "['Mai', 'Juin']\n",
      "['Mai', 'Juin', 'Juilllet', 'Août', 'Septembre', 'Octobre', 'Novembre', 'Décembre']\n"
     ]
    }
   ],
   "source": [
    "months_slicing = months[4:6]\n",
    "print(months_slicing)\n",
    "months_4_end = months[4:len(months)]\n",
    "print(months_4_end)"
   ]
  },
  {
   "cell_type": "markdown",
   "metadata": {},
   "source": [
    "## 3 premières valeurs de la variables countries et 4 dernières valeurs"
   ]
  },
  {
   "cell_type": "code",
   "execution_count": 30,
   "metadata": {},
   "outputs": [
    {
     "name": "stdout",
     "output_type": "stream",
     "text": [
      "['France', 'Spain', 'Canada']\n"
     ]
    }
   ],
   "source": [
    "countries_slice = countries[0:4]\n",
    "print(countries_slice)"
   ]
  },
  {
   "cell_type": "code",
   "execution_count": 32,
   "metadata": {},
   "outputs": [
    {
     "name": "stdout",
     "output_type": "stream",
     "text": [
      "['Septembre', 'Octobre', 'Novembre', 'Décembre']\n"
     ]
    }
   ],
   "source": [
    "monts_slice = months[len(months)-4:]\n",
    "print(monts_slice)"
   ]
  },
  {
   "cell_type": "markdown",
   "metadata": {},
   "source": [
    "# Fichier et boucle"
   ]
  },
  {
   "cell_type": "code",
   "execution_count": null,
   "metadata": {},
   "outputs": [],
   "source": [
    "def writeInFile(pathFile,text):\n",
    "    try:\n",
    "        os.path.exists(pathFile)\n",
    "    except FileNotFoundError:\n",
    "        fp = open(pathFile, 'w+')\n",
    "        fp.close\n",
    "\n",
    "    if type(text) is not string:\n",
    "        texte = str(text)\n",
    "\n",
    "    fichier = open(pathFile, \"a\")\n",
    "    fichier.write(texte + '\\n')\n",
    "    fichier.close()"
   ]
  },
  {
   "cell_type": "code",
   "execution_count": 37,
   "metadata": {},
   "outputs": [],
   "source": [
    "# open()\n",
    "f = open(\"python.txt\",\"r\")"
   ]
  },
  {
   "cell_type": "markdown",
   "metadata": {},
   "source": [
    "## lire un fichier"
   ]
  },
  {
   "cell_type": "code",
   "execution_count": 38,
   "metadata": {},
   "outputs": [
    {
     "name": "stdout",
     "output_type": "stream",
     "text": [
      "jean\n",
      "\n"
     ]
    }
   ],
   "source": [
    "# read()\n",
    "g = f.read()\n",
    "print(g)"
   ]
  },
  {
   "cell_type": "markdown",
   "metadata": {},
   "source": [
    "# print toutes les data d'un CSV"
   ]
  },
  {
   "cell_type": "code",
   "execution_count": null,
   "metadata": {},
   "outputs": [],
   "source": [
    "file_csv = open(\"departement.csv\",\"r\",encoding='ISO-8859-1')\n",
    "result = file_csv.read()\n",
    "print(result)"
   ]
  },
  {
   "cell_type": "markdown",
   "metadata": {},
   "source": [
    "# explode in python"
   ]
  },
  {
   "cell_type": "code",
   "execution_count": 44,
   "metadata": {},
   "outputs": [
    {
     "name": "stdout",
     "output_type": "stream",
     "text": [
      "['Tom', 'Seb', 'Bob']\n"
     ]
    }
   ],
   "source": [
    "names = 'Tom,Seb,Bob'\n",
    "split_list = names.split(',')\n",
    "print(split_list)"
   ]
  },
  {
   "cell_type": "markdown",
   "metadata": {},
   "source": [
    "## Afficher les 5 premières ligne d'un fichier"
   ]
  },
  {
   "cell_type": "code",
   "execution_count": 47,
   "metadata": {},
   "outputs": [
    {
     "name": "stdout",
     "output_type": "stream",
     "text": [
      "['Ain,643309', 'Aisne,554040', 'Allier,353262', 'Alpes-de-Haute-Provence,166298', 'Alpes-Maritimes,1098785']\n"
     ]
    }
   ],
   "source": [
    "rows = result.split('\\n')\n",
    "print(rows[0:5])"
   ]
  },
  {
   "cell_type": "markdown",
   "metadata": {},
   "source": [
    "# Boucles"
   ]
  },
  {
   "cell_type": "markdown",
   "metadata": {},
   "source": [
    "## FOR"
   ]
  },
  {
   "cell_type": "code",
   "execution_count": 49,
   "metadata": {},
   "outputs": [
    {
     "name": "stdout",
     "output_type": "stream",
     "text": [
      "Paris\n",
      "Madrid\n",
      "Rome\n"
     ]
    }
   ],
   "source": [
    "cities = ['Paris','Madrid','Rome']\n",
    "\n",
    "for city in cities:\n",
    "    print(city)"
   ]
  },
  {
   "cell_type": "code",
   "execution_count": 52,
   "metadata": {},
   "outputs": [
    {
     "name": "stdout",
     "output_type": "stream",
     "text": [
      "[['Ain', '643309'], ['Aisne', '554040'], ['Allier', '353262'], ['Alpes-de-Haute-Provence', '166298'], ['Alpes-Maritimes', '1098785'], ['Ardèche', '332051'], ['Ardennes', '287775'], ['Ariege', '158076'], ['Aube', '316098'], ['Aude', '375065']]\n"
     ]
    }
   ],
   "source": [
    "ten_rows = rows[0:10]\n",
    "final_list = []\n",
    "\n",
    "for row in ten_rows:\n",
    "    split_list=row.split(',')\n",
    "    final_list.append(split_list)\n",
    "print(final_list)"
   ]
  },
  {
   "cell_type": "code",
   "execution_count": 54,
   "metadata": {},
   "outputs": [
    {
     "name": "stdout",
     "output_type": "stream",
     "text": [
      "554040\n"
     ]
    }
   ],
   "source": [
    "print(final_list[1][1]) #2e liste 2e élément"
   ]
  },
  {
   "cell_type": "markdown",
   "metadata": {},
   "source": [
    "## foreach d'un foreach"
   ]
  },
  {
   "cell_type": "code",
   "execution_count": 57,
   "metadata": {},
   "outputs": [
    {
     "name": "stdout",
     "output_type": "stream",
     "text": [
      "Ain\n",
      "643309\n",
      "Aisne\n",
      "554040\n",
      "Allier\n",
      "353262\n",
      "Alpes-de-Haute-Provence\n",
      "166298\n",
      "Alpes-Maritimes\n",
      "1098785\n",
      "Ardèche\n",
      "332051\n",
      "Ardennes\n",
      "287775\n",
      "Ariege\n",
      "158076\n",
      "Aube\n",
      "316098\n",
      "Aude\n",
      "375065\n"
     ]
    }
   ],
   "source": [
    "for row in final_list:\n",
    "    for element in row:\n",
    "        print(element)"
   ]
  },
  {
   "cell_type": "code",
   "execution_count": 62,
   "metadata": {},
   "outputs": [
    {
     "name": "stdout",
     "output_type": "stream",
     "text": [
      "['Ain', 'Aisne', 'Allier', 'Alpes-de-Haute-Provence', 'Alpes-Maritimes', 'Ardèche', 'Ardennes', 'Ariege', 'Aube', 'Aude']\n"
     ]
    }
   ],
   "source": [
    "departement_list = []\n",
    "for row in final_list:\n",
    "    departement_list.append(row[0])\n",
    "print(departement_list)"
   ]
  },
  {
   "cell_type": "markdown",
   "metadata": {},
   "source": [
    "# Condition"
   ]
  },
  {
   "cell_type": "code",
   "execution_count": 64,
   "metadata": {},
   "outputs": [
    {
     "name": "stdout",
     "output_type": "stream",
     "text": [
      "True\n"
     ]
    }
   ],
   "source": [
    "egalite = departement_list[0] == 'Ain'\n",
    "print(egalite)"
   ]
  },
  {
   "cell_type": "code",
   "execution_count": 68,
   "metadata": {},
   "outputs": [
    {
     "name": "stdout",
     "output_type": "stream",
     "text": [
      "ce sera tout\n"
     ]
    }
   ],
   "source": [
    "value = 30\n",
    "if value > 30:\n",
    "    print('pomme > 30')\n",
    "elif value < 30:\n",
    "    print('pomme < 30')\n",
    "else:\n",
    "    print('ce sera tout')"
   ]
  },
  {
   "cell_type": "markdown",
   "metadata": {},
   "source": [
    "## tester si la variable est égale à True"
   ]
  },
  {
   "cell_type": "code",
   "execution_count": 71,
   "metadata": {},
   "outputs": [
    {
     "name": "stdout",
     "output_type": "stream",
     "text": [
      "False\n",
      "pomme\n"
     ]
    }
   ],
   "source": [
    "found = True\n",
    "if found:\n",
    "    found = False\n",
    "print(found)\n",
    "if not found:\n",
    "    print('pomme')"
   ]
  },
  {
   "cell_type": "markdown",
   "metadata": {},
   "source": [
    "# OR et AND"
   ]
  },
  {
   "cell_type": "code",
   "execution_count": 1,
   "metadata": {},
   "outputs": [
    {
     "name": "stdout",
     "output_type": "stream",
     "text": [
      "False\n",
      "pomme\n"
     ]
    }
   ],
   "source": [
    "a = 5\n",
    "b = 10\n",
    "result1 = (a < 5 or b > 10)\n",
    "print(result1)\n",
    "if a == 5 and b == 10 :\n",
    "    print('pomme')"
   ]
  },
  {
   "cell_type": "markdown",
   "metadata": {},
   "source": []
  },
  {
   "cell_type": "code",
   "execution_count": null,
   "metadata": {},
   "outputs": [],
   "source": []
  }
 ],
 "metadata": {
  "kernelspec": {
   "display_name": "Python 3",
   "language": "python",
   "name": "python3"
  },
  "language_info": {
   "codemirror_mode": {
    "name": "ipython",
    "version": 3
   },
   "file_extension": ".py",
   "mimetype": "text/x-python",
   "name": "python",
   "nbconvert_exporter": "python",
   "pygments_lexer": "ipython3",
   "version": "3.7.6"
  }
 },
 "nbformat": 4,
 "nbformat_minor": 4
}
